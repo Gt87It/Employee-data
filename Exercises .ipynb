{
 "cells": [
  {
   "cell_type": "markdown",
   "id": "71197985-1221-4f4b-afb9-454adf563e67",
   "metadata": {},
   "source": [
    " ## This project involves the use of fictitous employees data, splitted into two datasets\n",
    " #### sources and composition\n",
    "- source 1 = 'basic_pay.csv': category of salary (salary_band), date of recording (cal_date), id (staff_id)\n",
    "- source 2 = 'org_assignments.csv': organisational unit (org_unit), start of employment in that unit (start_date), end of employment in that unit (end_date), id (staff_id)64 "
   ]
  },
  {
   "cell_type": "markdown",
   "id": "66d35d64-4ecf-47bc-9c69-1b6cafc43dbd",
   "metadata": {},
   "source": [
    "# Visualise the number of employees grouped by salary band on 1 January 2025."
   ]
  },
  {
   "cell_type": "code",
   "execution_count": 4,
   "id": "c56b0077-b9a3-49e1-b157-a5e0655d2600",
   "metadata": {},
   "outputs": [],
   "source": [
    "# import libraries\n",
    "import pandas as pd\n",
    "import matplotlib.pyplot as plt\n",
    "import seaborn as sns\n",
    "from datetime import datetime, date, time"
   ]
  },
  {
   "cell_type": "code",
   "execution_count": 5,
   "id": "9dfbbe35-9280-44cb-aedd-7d45b2c56629",
   "metadata": {},
   "outputs": [
    {
     "name": "stdout",
     "output_type": "stream",
     "text": [
      "<class 'pandas.core.frame.DataFrame'>\n",
      "RangeIndex: 192574 entries, 0 to 192573\n",
      "Data columns (total 3 columns):\n",
      " #   Column       Non-Null Count   Dtype \n",
      "---  ------       --------------   ----- \n",
      " 0   salary_band  192574 non-null  object\n",
      " 1   cal_date     192574 non-null  int64 \n",
      " 2   staff_id     192574 non-null  int64 \n",
      "dtypes: int64(2), object(1)\n",
      "memory usage: 4.4+ MB\n",
      "General info None\n",
      "Number of rows:  192574\n",
      "Number of columns:  3\n"
     ]
    }
   ],
   "source": [
    "# import file\n",
    "df  = pd.read_csv('basic_pay.csv', parse_dates = True, dayfirst = True)\n",
    "print('General info', df.info())\n",
    "print('Number of rows: ', df.shape[0])\n",
    "print('Number of columns: ', df.shape[1])"
   ]
  },
  {
   "cell_type": "code",
   "execution_count": 6,
   "id": "aea4e56a-b047-4a7f-a930-c6cb36253c41",
   "metadata": {},
   "outputs": [
    {
     "data": {
      "text/html": [
       "<div>\n",
       "<style scoped>\n",
       "    .dataframe tbody tr th:only-of-type {\n",
       "        vertical-align: middle;\n",
       "    }\n",
       "\n",
       "    .dataframe tbody tr th {\n",
       "        vertical-align: top;\n",
       "    }\n",
       "\n",
       "    .dataframe thead th {\n",
       "        text-align: right;\n",
       "    }\n",
       "</style>\n",
       "<table border=\"1\" class=\"dataframe\">\n",
       "  <thead>\n",
       "    <tr style=\"text-align: right;\">\n",
       "      <th></th>\n",
       "      <th>salary_band</th>\n",
       "      <th>cal_date</th>\n",
       "      <th>staff_id</th>\n",
       "    </tr>\n",
       "  </thead>\n",
       "  <tbody>\n",
       "    <tr>\n",
       "      <th>0</th>\n",
       "      <td>I</td>\n",
       "      <td>20240102</td>\n",
       "      <td>434</td>\n",
       "    </tr>\n",
       "    <tr>\n",
       "      <th>1</th>\n",
       "      <td>I</td>\n",
       "      <td>20240103</td>\n",
       "      <td>434</td>\n",
       "    </tr>\n",
       "    <tr>\n",
       "      <th>2</th>\n",
       "      <td>I</td>\n",
       "      <td>20240104</td>\n",
       "      <td>434</td>\n",
       "    </tr>\n",
       "    <tr>\n",
       "      <th>3</th>\n",
       "      <td>I</td>\n",
       "      <td>20240105</td>\n",
       "      <td>434</td>\n",
       "    </tr>\n",
       "    <tr>\n",
       "      <th>4</th>\n",
       "      <td>I</td>\n",
       "      <td>20240106</td>\n",
       "      <td>434</td>\n",
       "    </tr>\n",
       "  </tbody>\n",
       "</table>\n",
       "</div>"
      ],
      "text/plain": [
       "  salary_band  cal_date  staff_id\n",
       "0           I  20240102       434\n",
       "1           I  20240103       434\n",
       "2           I  20240104       434\n",
       "3           I  20240105       434\n",
       "4           I  20240106       434"
      ]
     },
     "execution_count": 6,
     "metadata": {},
     "output_type": "execute_result"
    }
   ],
   "source": [
    "# Data snippet\n",
    "df.head()"
   ]
  },
  {
   "cell_type": "code",
   "execution_count": 7,
   "id": "44876c42-b5cd-44c4-9a20-51b8b1132ab5",
   "metadata": {},
   "outputs": [],
   "source": [
    "# datetime conversion of columns\n",
    "df['cal_date'] = pd.to_datetime(df['cal_date'] , format= \"%Y%m%d\")"
   ]
  },
  {
   "cell_type": "code",
   "execution_count": 8,
   "id": "51d72005-9ea0-4c77-838f-7fc7fb5f7993",
   "metadata": {},
   "outputs": [
    {
     "data": {
      "text/plain": [
       "dtype('<M8[ns]')"
      ]
     },
     "execution_count": 8,
     "metadata": {},
     "output_type": "execute_result"
    }
   ],
   "source": [
    "df['cal_date'].dtype # conversion done "
   ]
  },
  {
   "cell_type": "code",
   "execution_count": 9,
   "id": "c923fedf-b3bb-4d0e-a12e-d92a867c6f01",
   "metadata": {},
   "outputs": [],
   "source": [
    "# group staff_id data by salary band and count the unique occurrecies\n",
    "df_grouped = df.groupby('salary_band')['staff_id'].nunique()"
   ]
  },
  {
   "cell_type": "code",
   "execution_count": 10,
   "id": "5c70dff1-4336-43de-9d90-5a3b95079620",
   "metadata": {},
   "outputs": [
    {
     "data": {
      "text/plain": [
       "salary_band\n",
       "F/G    105\n",
       "E/F     92\n",
       "H       82\n",
       "D       59\n",
       "I       52\n",
       "C       50\n",
       "J       35\n",
       "E       22\n",
       "B       11\n",
       "K       10\n",
       "L        5\n",
       "A        1\n",
       "G        1\n",
       "Name: staff_id, dtype: int64"
      ]
     },
     "execution_count": 10,
     "metadata": {},
     "output_type": "execute_result"
    }
   ],
   "source": [
    "# ordered \n",
    "df_grouped = df_grouped.sort_values(ascending = False)\n",
    "df_grouped"
   ]
  },
  {
   "cell_type": "code",
   "execution_count": 11,
   "id": "e9e60879-8ae8-4918-841d-6312c18d267a",
   "metadata": {},
   "outputs": [],
   "source": [
    "# give a name to the counts column  \n",
    "df_grouped = df_grouped.rename({'staff_id': 'Numero di dipendenti'})"
   ]
  },
  {
   "cell_type": "code",
   "execution_count": 12,
   "id": "5e6d4c71-ae25-4fb5-8ad5-68ce33d01e44",
   "metadata": {},
   "outputs": [
    {
     "name": "stderr",
     "output_type": "stream",
     "text": [
      "C:\\Users\\giamm\\AppData\\Local\\Temp\\ipykernel_30416\\3087341368.py:3: FutureWarning: \n",
      "\n",
      "Passing `palette` without assigning `hue` is deprecated and will be removed in v0.14.0. Assign the `x` variable to `hue` and set `legend=False` for the same effect.\n",
      "\n",
      "  sns.barplot(data=df_grouped, palette=\"viridis\") # se una colonna categoriale e una continua allora si ha una series\n"
     ]
    },
    {
     "data": {
      "image/png": "[encoded data removed]",
      "text/plain": [
       "<Figure size 800x400 with 1 Axes>"
      ]
     },
     "metadata": {},
     "output_type": "display_data"
    }
   ],
   "source": [
    "# plot a graph of nmbernof employees grouped by salary band\n",
    "plt.figure(figsize=(8,4))\n",
    "sns.barplot(data=df_grouped, palette=\"viridis\") # se una colonna categoriale e una continua allora si ha una series\n",
    "plt.title('Number of employees grouped by salary band')\n",
    "plt.xlabel('Salary band')\n",
    "plt.ylabel('Number of employees')\n",
    "plt.show()"
   ]
  },
  {
   "cell_type": "markdown",
   "id": "c148f71e-f4e0-4508-bde7-a4fb5cb32a77",
   "metadata": {},
   "source": [
    "# What is the share of managers (salary bands I to L) on 1 January 2025?"
   ]
  },
  {
   "cell_type": "code",
   "execution_count": 14,
   "id": "12428064-3ff1-49ae-9195-e86e00669952",
   "metadata": {},
   "outputs": [
    {
     "name": "stdout",
     "output_type": "stream",
     "text": [
      "<class 'pandas.core.frame.DataFrame'>\n",
      "RangeIndex: 192574 entries, 0 to 192573\n",
      "Data columns (total 3 columns):\n",
      " #   Column       Non-Null Count   Dtype \n",
      "---  ------       --------------   ----- \n",
      " 0   salary_band  192574 non-null  object\n",
      " 1   cal_date     192574 non-null  int64 \n",
      " 2   staff_id     192574 non-null  int64 \n",
      "dtypes: int64(2), object(1)\n",
      "memory usage: 4.4+ MB\n",
      "General info None\n",
      "Number of rows:  192574\n",
      "Number of columns:  3\n"
     ]
    }
   ],
   "source": [
    "df  = pd.read_csv('basic_pay.csv', parse_dates = True, dayfirst = True)\n",
    "print('General info', df.info())\n",
    "print('Number of rows: ', df.shape[0])\n",
    "print('Number of columns: ', df.shape[1])"
   ]
  },
  {
   "cell_type": "code",
   "execution_count": 15,
   "id": "54e4c92a-f6a2-4c0a-b9fb-d379eea7b7f5",
   "metadata": {},
   "outputs": [
    {
     "data": {
      "text/html": [
       "<div>\n",
       "<style scoped>\n",
       "    .dataframe tbody tr th:only-of-type {\n",
       "        vertical-align: middle;\n",
       "    }\n",
       "\n",
       "    .dataframe tbody tr th {\n",
       "        vertical-align: top;\n",
       "    }\n",
       "\n",
       "    .dataframe thead th {\n",
       "        text-align: right;\n",
       "    }\n",
       "</style>\n",
       "<table border=\"1\" class=\"dataframe\">\n",
       "  <thead>\n",
       "    <tr style=\"text-align: right;\">\n",
       "      <th></th>\n",
       "      <th>salary_band</th>\n",
       "      <th>cal_date</th>\n",
       "      <th>staff_id</th>\n",
       "    </tr>\n",
       "  </thead>\n",
       "  <tbody>\n",
       "    <tr>\n",
       "      <th>0</th>\n",
       "      <td>I</td>\n",
       "      <td>20240102</td>\n",
       "      <td>434</td>\n",
       "    </tr>\n",
       "    <tr>\n",
       "      <th>1</th>\n",
       "      <td>I</td>\n",
       "      <td>20240103</td>\n",
       "      <td>434</td>\n",
       "    </tr>\n",
       "    <tr>\n",
       "      <th>2</th>\n",
       "      <td>I</td>\n",
       "      <td>20240104</td>\n",
       "      <td>434</td>\n",
       "    </tr>\n",
       "    <tr>\n",
       "      <th>3</th>\n",
       "      <td>I</td>\n",
       "      <td>20240105</td>\n",
       "      <td>434</td>\n",
       "    </tr>\n",
       "    <tr>\n",
       "      <th>4</th>\n",
       "      <td>I</td>\n",
       "      <td>20240106</td>\n",
       "      <td>434</td>\n",
       "    </tr>\n",
       "  </tbody>\n",
       "</table>\n",
       "</div>"
      ],
      "text/plain": [
       "  salary_band  cal_date  staff_id\n",
       "0           I  20240102       434\n",
       "1           I  20240103       434\n",
       "2           I  20240104       434\n",
       "3           I  20240105       434\n",
       "4           I  20240106       434"
      ]
     },
     "execution_count": 15,
     "metadata": {},
     "output_type": "execute_result"
    }
   ],
   "source": [
    "# data snippet\n",
    "df.head()"
   ]
  },
  {
   "cell_type": "code",
   "execution_count": 16,
   "id": "ddf846ed-99c5-4994-91d7-7dceb6ad67fd",
   "metadata": {},
   "outputs": [],
   "source": [
    "# column conversion in datetime type of data\n",
    "df['cal_date'] = pd.to_datetime(df['cal_date'] , format= \"%Y%m%d\")"
   ]
  },
  {
   "cell_type": "code",
   "execution_count": 17,
   "id": "51228df0-f9c6-488e-a2fe-88391c6844ec",
   "metadata": {},
   "outputs": [],
   "source": [
    "# filter data from 01-01-2025\n",
    "df= df[df['cal_date'] == '2025-01-01']"
   ]
  },
  {
   "cell_type": "code",
   "execution_count": 18,
   "id": "c398cbd8-f637-49bb-a12e-35db08bc07d9",
   "metadata": {},
   "outputs": [
    {
     "data": {
      "text/html": [
       "<div>\n",
       "<style scoped>\n",
       "    .dataframe tbody tr th:only-of-type {\n",
       "        vertical-align: middle;\n",
       "    }\n",
       "\n",
       "    .dataframe tbody tr th {\n",
       "        vertical-align: top;\n",
       "    }\n",
       "\n",
       "    .dataframe thead th {\n",
       "        text-align: right;\n",
       "    }\n",
       "</style>\n",
       "<table border=\"1\" class=\"dataframe\">\n",
       "  <thead>\n",
       "    <tr style=\"text-align: right;\">\n",
       "      <th></th>\n",
       "      <th>salary_band</th>\n",
       "      <th>cal_date</th>\n",
       "      <th>staff_id</th>\n",
       "    </tr>\n",
       "  </thead>\n",
       "  <tbody>\n",
       "    <tr>\n",
       "      <th>365</th>\n",
       "      <td>I</td>\n",
       "      <td>2025-01-01</td>\n",
       "      <td>434</td>\n",
       "    </tr>\n",
       "    <tr>\n",
       "      <th>789</th>\n",
       "      <td>E/F</td>\n",
       "      <td>2025-01-01</td>\n",
       "      <td>140</td>\n",
       "    </tr>\n",
       "    <tr>\n",
       "      <th>1213</th>\n",
       "      <td>D</td>\n",
       "      <td>2025-01-01</td>\n",
       "      <td>89</td>\n",
       "    </tr>\n",
       "    <tr>\n",
       "      <th>1637</th>\n",
       "      <td>I</td>\n",
       "      <td>2025-01-01</td>\n",
       "      <td>414</td>\n",
       "    </tr>\n",
       "    <tr>\n",
       "      <th>2111</th>\n",
       "      <td>I</td>\n",
       "      <td>2025-01-01</td>\n",
       "      <td>443</td>\n",
       "    </tr>\n",
       "  </tbody>\n",
       "</table>\n",
       "</div>"
      ],
      "text/plain": [
       "     salary_band   cal_date  staff_id\n",
       "365            I 2025-01-01       434\n",
       "789          E/F 2025-01-01       140\n",
       "1213           D 2025-01-01        89\n",
       "1637           I 2025-01-01       414\n",
       "2111           I 2025-01-01       443"
      ]
     },
     "execution_count": 18,
     "metadata": {},
     "output_type": "execute_result"
    }
   ],
   "source": [
    "df.head()"
   ]
  },
  {
   "cell_type": "code",
   "execution_count": 19,
   "id": "d8c25f03-feb0-4686-b909-6d4f4bface92",
   "metadata": {},
   "outputs": [
    {
     "data": {
      "text/html": [
       "<div>\n",
       "<style scoped>\n",
       "    .dataframe tbody tr th:only-of-type {\n",
       "        vertical-align: middle;\n",
       "    }\n",
       "\n",
       "    .dataframe tbody tr th {\n",
       "        vertical-align: top;\n",
       "    }\n",
       "\n",
       "    .dataframe thead th {\n",
       "        text-align: right;\n",
       "    }\n",
       "</style>\n",
       "<table border=\"1\" class=\"dataframe\">\n",
       "  <thead>\n",
       "    <tr style=\"text-align: right;\">\n",
       "      <th></th>\n",
       "      <th>count</th>\n",
       "    </tr>\n",
       "    <tr>\n",
       "      <th>salary_band</th>\n",
       "      <th></th>\n",
       "    </tr>\n",
       "  </thead>\n",
       "  <tbody>\n",
       "    <tr>\n",
       "      <th>F/G</th>\n",
       "      <td>91</td>\n",
       "    </tr>\n",
       "    <tr>\n",
       "      <th>E/F</th>\n",
       "      <td>77</td>\n",
       "    </tr>\n",
       "    <tr>\n",
       "      <th>H</th>\n",
       "      <td>76</td>\n",
       "    </tr>\n",
       "    <tr>\n",
       "      <th>D</th>\n",
       "      <td>49</td>\n",
       "    </tr>\n",
       "    <tr>\n",
       "      <th>I</th>\n",
       "      <td>48</td>\n",
       "    </tr>\n",
       "    <tr>\n",
       "      <th>C</th>\n",
       "      <td>42</td>\n",
       "    </tr>\n",
       "    <tr>\n",
       "      <th>J</th>\n",
       "      <td>32</td>\n",
       "    </tr>\n",
       "    <tr>\n",
       "      <th>E</th>\n",
       "      <td>18</td>\n",
       "    </tr>\n",
       "    <tr>\n",
       "      <th>B</th>\n",
       "      <td>10</td>\n",
       "    </tr>\n",
       "    <tr>\n",
       "      <th>K</th>\n",
       "      <td>10</td>\n",
       "    </tr>\n",
       "    <tr>\n",
       "      <th>L</th>\n",
       "      <td>4</td>\n",
       "    </tr>\n",
       "    <tr>\n",
       "      <th>G</th>\n",
       "      <td>1</td>\n",
       "    </tr>\n",
       "    <tr>\n",
       "      <th>A</th>\n",
       "      <td>1</td>\n",
       "    </tr>\n",
       "  </tbody>\n",
       "</table>\n",
       "</div>"
      ],
      "text/plain": [
       "             count\n",
       "salary_band       \n",
       "F/G             91\n",
       "E/F             77\n",
       "H               76\n",
       "D               49\n",
       "I               48\n",
       "C               42\n",
       "J               32\n",
       "E               18\n",
       "B               10\n",
       "K               10\n",
       "L                4\n",
       "G                1\n",
       "A                1"
      ]
     },
     "execution_count": 19,
     "metadata": {},
     "output_type": "execute_result"
    }
   ],
   "source": [
    "# count unique values for each category\n",
    "conto_manager = df['salary_band'].value_counts()\n",
    "conto_manager =pd.DataFrame(conto_manager)\n",
    "conto_manager # NB salary band data is the index"
   ]
  },
  {
   "cell_type": "code",
   "execution_count": 20,
   "id": "32ec716b-6ba2-44d9-85ed-ffa2fa188ee8",
   "metadata": {},
   "outputs": [
    {
     "data": {
      "text/html": [
       "<div>\n",
       "<style scoped>\n",
       "    .dataframe tbody tr th:only-of-type {\n",
       "        vertical-align: middle;\n",
       "    }\n",
       "\n",
       "    .dataframe tbody tr th {\n",
       "        vertical-align: top;\n",
       "    }\n",
       "\n",
       "    .dataframe thead th {\n",
       "        text-align: right;\n",
       "    }\n",
       "</style>\n",
       "<table border=\"1\" class=\"dataframe\">\n",
       "  <thead>\n",
       "    <tr style=\"text-align: right;\">\n",
       "      <th>salary_band</th>\n",
       "      <th>F/G</th>\n",
       "      <th>E/F</th>\n",
       "      <th>H</th>\n",
       "      <th>D</th>\n",
       "      <th>I</th>\n",
       "      <th>C</th>\n",
       "      <th>J</th>\n",
       "      <th>E</th>\n",
       "      <th>B</th>\n",
       "      <th>K</th>\n",
       "      <th>L</th>\n",
       "      <th>G</th>\n",
       "      <th>A</th>\n",
       "    </tr>\n",
       "  </thead>\n",
       "  <tbody>\n",
       "    <tr>\n",
       "      <th>count</th>\n",
       "      <td>91</td>\n",
       "      <td>77</td>\n",
       "      <td>76</td>\n",
       "      <td>49</td>\n",
       "      <td>48</td>\n",
       "      <td>42</td>\n",
       "      <td>32</td>\n",
       "      <td>18</td>\n",
       "      <td>10</td>\n",
       "      <td>10</td>\n",
       "      <td>4</td>\n",
       "      <td>1</td>\n",
       "      <td>1</td>\n",
       "    </tr>\n",
       "  </tbody>\n",
       "</table>\n",
       "</div>"
      ],
      "text/plain": [
       "salary_band  F/G  E/F   H   D   I   C   J   E   B   K  L  G  A\n",
       "count         91   77  76  49  48  42  32  18  10  10  4  1  1"
      ]
     },
     "execution_count": 20,
     "metadata": {},
     "output_type": "execute_result"
    }
   ],
   "source": [
    "# pivoting table\n",
    "# making it wide to build a pie chart\n",
    "conto_manager = conto_manager.T\n",
    "conto_manager"
   ]
  },
  {
   "cell_type": "code",
   "execution_count": 21,
   "id": "ea0aab82-75de-4366-9cb3-390bc9b05ea4",
   "metadata": {},
   "outputs": [],
   "source": [
    "# pie chart \n",
    "manager_high = conto_manager[['I', 'J', 'K', 'L']].sum(axis=1).values[0] # sum of the values of column I'm interested to plot against all the other\n",
    "other_managers = conto_manager.drop(columns=['I', 'J', 'K', 'L']).sum(axis=1).values[0] # sum of values of all the other columns"
   ]
  },
  {
   "cell_type": "code",
   "execution_count": 22,
   "id": "55d7006d-1855-4ead-86a4-0779a09cce23",
   "metadata": {},
   "outputs": [],
   "source": [
    "# Pie chart data\n",
    "sizes = [manager_high, other_managers]\n",
    "labels = ['High managers', 'Other managers']"
   ]
  },
  {
   "cell_type": "code",
   "execution_count": 23,
   "id": "607b3332-ee0d-479e-8ab6-152a0c9c608d",
   "metadata": {},
   "outputs": [
    {
     "data": {
      "image/png": "[encoded data removed]",
      "text/plain": [
       "<Figure size 400x400 with 1 Axes>"
      ]
     },
     "metadata": {},
     "output_type": "display_data"
    }
   ],
   "source": [
    "# Pie chart\n",
    "plt.figure(figsize=(4,4))\n",
    "plt.pie(sizes, labels=labels,  autopct='%1.1f%%', startangle=140)\n",
    "plt.title('High managers vs Other managers')\n",
    "plt.legend(loc= 'lower left')\n",
    "plt.show()"
   ]
  },
  {
   "cell_type": "markdown",
   "id": "e2ab881a-ae59-41a8-b04d-c3b790436a3a",
   "metadata": {},
   "source": [
    "# Does the share differ substantially by organisational unit?"
   ]
  },
  {
   "cell_type": "code",
   "execution_count": 25,
   "id": "81a607e7-c3fd-4bcd-907b-11b6560d5d32",
   "metadata": {},
   "outputs": [],
   "source": [
    "# Must merge datasets by the column staff_id \n",
    "# import data\n",
    "df_salary  = pd.read_csv('basic_pay.csv', parse_dates = True, dayfirst = True)\n",
    "df_org_unit = df  = pd.read_csv('org_assignments.csv', parse_dates = True, dayfirst = True)"
   ]
  },
  {
   "cell_type": "code",
   "execution_count": 26,
   "id": "4a5d6207-87b8-4b11-8c2a-e7bc34ebf785",
   "metadata": {},
   "outputs": [
    {
     "data": {
      "text/plain": [
       "True"
      ]
     },
     "execution_count": 26,
     "metadata": {},
     "output_type": "execute_result"
    }
   ],
   "source": [
    "# check if the staff_id columns map one on the other\n",
    "sorted(df_salary['staff_id'].unique()) == sorted(df_org_unit['staff_id'].unique())"
   ]
  },
  {
   "cell_type": "code",
   "execution_count": 27,
   "id": "6d56b57c-50b0-432b-920e-f22f244dd45d",
   "metadata": {},
   "outputs": [],
   "source": [
    "# merging the datasets by staff_id using key combinations found in the left table\n",
    "df_merged = pd.merge(df_salary, df_org_unit, on='staff_id', how='left')"
   ]
  },
  {
   "cell_type": "code",
   "execution_count": 28,
   "id": "2b8f19c4-d304-4cec-9501-32f4d007c238",
   "metadata": {},
   "outputs": [
    {
     "data": {
      "text/plain": [
       "salary_band    0\n",
       "cal_date       0\n",
       "staff_id       0\n",
       "org_unit       0\n",
       "start_date     0\n",
       "end_date       0\n",
       "dtype: int64"
      ]
     },
     "execution_count": 28,
     "metadata": {},
     "output_type": "execute_result"
    }
   ],
   "source": [
    "# check for na's from the merging\n",
    "df_merged.isna().sum()"
   ]
  },
  {
   "cell_type": "code",
   "execution_count": 29,
   "id": "43d1f0ef-af28-4b2d-89a9-68dc22ad6693",
   "metadata": {},
   "outputs": [],
   "source": [
    "# create a vector of values I'm interested\n",
    "manager_bands = ['I', 'J', 'K', 'L']"
   ]
  },
  {
   "cell_type": "code",
   "execution_count": 30,
   "id": "a71b6e86-9aec-4ad5-82d5-eb7552cf8439",
   "metadata": {},
   "outputs": [],
   "source": [
    "# select all data from January-1-1 without conversion into datetime data\n",
    "df_2025 = df_merged[df_merged['cal_date'] == 20250101]"
   ]
  },
  {
   "cell_type": "code",
   "execution_count": 31,
   "id": "50a2890e-9fa7-41fd-9551-db0cf59dc71b",
   "metadata": {},
   "outputs": [
    {
     "data": {
      "text/html": [
       "<div>\n",
       "<style scoped>\n",
       "    .dataframe tbody tr th:only-of-type {\n",
       "        vertical-align: middle;\n",
       "    }\n",
       "\n",
       "    .dataframe tbody tr th {\n",
       "        vertical-align: top;\n",
       "    }\n",
       "\n",
       "    .dataframe thead th {\n",
       "        text-align: right;\n",
       "    }\n",
       "</style>\n",
       "<table border=\"1\" class=\"dataframe\">\n",
       "  <thead>\n",
       "    <tr style=\"text-align: right;\">\n",
       "      <th></th>\n",
       "      <th>salary_band</th>\n",
       "      <th>cal_date</th>\n",
       "      <th>staff_id</th>\n",
       "      <th>org_unit</th>\n",
       "      <th>start_date</th>\n",
       "      <th>end_date</th>\n",
       "    </tr>\n",
       "  </thead>\n",
       "  <tbody>\n",
       "    <tr>\n",
       "      <th>1825</th>\n",
       "      <td>I</td>\n",
       "      <td>20250101</td>\n",
       "      <td>434</td>\n",
       "      <td>DGIS</td>\n",
       "      <td>20240627</td>\n",
       "      <td>20240831</td>\n",
       "    </tr>\n",
       "    <tr>\n",
       "      <th>1826</th>\n",
       "      <td>I</td>\n",
       "      <td>20250101</td>\n",
       "      <td>434</td>\n",
       "      <td>DGIS</td>\n",
       "      <td>20240901</td>\n",
       "      <td>20241016</td>\n",
       "    </tr>\n",
       "    <tr>\n",
       "      <th>1827</th>\n",
       "      <td>I</td>\n",
       "      <td>20250101</td>\n",
       "      <td>434</td>\n",
       "      <td>DGIS</td>\n",
       "      <td>20200101</td>\n",
       "      <td>20240626</td>\n",
       "    </tr>\n",
       "    <tr>\n",
       "      <th>1828</th>\n",
       "      <td>I</td>\n",
       "      <td>20250101</td>\n",
       "      <td>434</td>\n",
       "      <td>DGIS</td>\n",
       "      <td>20241017</td>\n",
       "      <td>20250626</td>\n",
       "    </tr>\n",
       "    <tr>\n",
       "      <th>1829</th>\n",
       "      <td>I</td>\n",
       "      <td>20250101</td>\n",
       "      <td>434</td>\n",
       "      <td>DGIS</td>\n",
       "      <td>20250627</td>\n",
       "      <td>20291231</td>\n",
       "    </tr>\n",
       "  </tbody>\n",
       "</table>\n",
       "</div>"
      ],
      "text/plain": [
       "     salary_band  cal_date  staff_id org_unit  start_date  end_date\n",
       "1825           I  20250101       434     DGIS    20240627  20240831\n",
       "1826           I  20250101       434     DGIS    20240901  20241016\n",
       "1827           I  20250101       434     DGIS    20200101  20240626\n",
       "1828           I  20250101       434     DGIS    20241017  20250626\n",
       "1829           I  20250101       434     DGIS    20250627  20291231"
      ]
     },
     "execution_count": 31,
     "metadata": {},
     "output_type": "execute_result"
    }
   ],
   "source": [
    "# data snippet\n",
    "df_2025.head()"
   ]
  },
  {
   "cell_type": "code",
   "execution_count": 32,
   "id": "1ba40b7a-540a-48d4-b8e0-a8d5ea7dc757",
   "metadata": {},
   "outputs": [
    {
     "name": "stderr",
     "output_type": "stream",
     "text": [
      "C:\\Users\\giamm\\AppData\\Local\\Temp\\ipykernel_30416\\367818228.py:2: DeprecationWarning: DataFrameGroupBy.apply operated on the grouping columns. This behavior is deprecated, and in a future version of pandas the grouping columns will be excluded from the operation. Either pass `include_groups=False` to exclude the groupings or explicitly select the grouping columns after groupby to silence this warning.\n",
      "  share_by_unit = df_2025.groupby('org_unit').apply(   # group data by org_units\n"
     ]
    }
   ],
   "source": [
    "# % managers in org units\n",
    "share_by_unit = df_2025.groupby('org_unit').apply(   # group data by org_units\n",
    "    lambda g: (g[g['salary_band'].isin(manager_bands)].shape[0]) / g.shape[0] * 100) # subsets values of org_units relative to values of manager_bands, counts the observations  \n",
    "                                                                                    # divides the by the total numbers of observations in the filtered merged data"
   ]
  },
  {
   "cell_type": "code",
   "execution_count": 33,
   "id": "800440f2-991b-42be-9d58-21d4bdb2f2b2",
   "metadata": {},
   "outputs": [
    {
     "data": {
      "text/plain": [
       "org_unit\n",
       "DGCS      6.733167\n",
       "DGIS     14.285714\n",
       "DGMIP    18.918919\n",
       "DGS      18.411552\n",
       "dtype: float64"
      ]
     },
     "execution_count": 33,
     "metadata": {},
     "output_type": "execute_result"
    }
   ],
   "source": [
    "# check the result \n",
    "share_by_unit"
   ]
  },
  {
   "cell_type": "code",
   "execution_count": 34,
   "id": "950d0303-f073-42a0-bd05-22d2a02efe14",
   "metadata": {},
   "outputs": [
    {
     "name": "stdout",
     "output_type": "stream",
     "text": [
      "  org_unit  manager_share\n",
      "0     DGCS       6.733167\n",
      "1     DGIS      14.285714\n",
      "2    DGMIP      18.918919\n",
      "3      DGS      18.411552\n"
     ]
    }
   ],
   "source": [
    "# reset index to make org_unita column and adding a column to identify the values\n",
    "share_by_unit = share_by_unit.reset_index(name='manager_share')\n",
    "print(share_by_unit)"
   ]
  },
  {
   "cell_type": "code",
   "execution_count": 35,
   "id": "66bcc1c2-3d3e-4bda-9269-b4b6ac224e03",
   "metadata": {},
   "outputs": [],
   "source": [
    "# sorting data \n",
    "share_by_unit = share_by_unit.sort_values('manager_share', ascending=False)"
   ]
  },
  {
   "cell_type": "code",
   "execution_count": 36,
   "id": "bcb00800-d5c7-45ec-9539-b8ac175ebe10",
   "metadata": {},
   "outputs": [
    {
     "name": "stderr",
     "output_type": "stream",
     "text": [
      "C:\\Users\\giamm\\AppData\\Local\\Temp\\ipykernel_30416\\647683428.py:3: FutureWarning: \n",
      "\n",
      "Passing `palette` without assigning `hue` is deprecated and will be removed in v0.14.0. Assign the `y` variable to `hue` and set `legend=False` for the same effect.\n",
      "\n",
      "  sns.barplot(data=share_by_unit, x='manager_share', y='org_unit', palette='Blues_d')\n"
     ]
    },
    {
     "data": {
      "image/png": "[encoded data removed]",
      "text/plain": [
       "<Figure size 600x400 with 1 Axes>"
      ]
     },
     "metadata": {},
     "output_type": "display_data"
    }
   ],
   "source": [
    "# and visualizing it with seaborn\n",
    "plt.figure(figsize=(6, 4))\n",
    "sns.barplot(data=share_by_unit, x='manager_share', y='org_unit', palette='Blues_d')\n",
    "\n",
    "plt.xlabel('Manager Share (%)')\n",
    "plt.ylabel('Organisational Unit')\n",
    "plt.title('Share of Managers (Bands I–L) by Organisational Unit – 1 Jan 2025')\n",
    "plt.tight_layout()\n",
    "plt.show()"
   ]
  },
  {
   "cell_type": "markdown",
   "id": "f511798f-0f6a-4c68-b904-0250a77402cd",
   "metadata": {},
   "source": [
    "# How many employees in organisational unit \"DGIS\" were promoted to an \"F/G\" salary band in 2024? \n",
    "### The employees must have been previously employed at an \"E/F\" salary band in any organisational unit across the dataset."
   ]
  },
  {
   "cell_type": "code",
   "execution_count": 38,
   "id": "e932ec83-d18a-4c7b-8138-813ecce9ede0",
   "metadata": {},
   "outputs": [
    {
     "name": "stdout",
     "output_type": "stream",
     "text": [
      "<class 'pandas.core.frame.DataFrame'>\n",
      "RangeIndex: 533059 entries, 0 to 533058\n",
      "Data columns (total 6 columns):\n",
      " #   Column       Non-Null Count   Dtype \n",
      "---  ------       --------------   ----- \n",
      " 0   salary_band  533059 non-null  object\n",
      " 1   cal_date     533059 non-null  int64 \n",
      " 2   staff_id     533059 non-null  int64 \n",
      " 3   org_unit     533059 non-null  object\n",
      " 4   start_date   533059 non-null  int64 \n",
      " 5   end_date     533059 non-null  int64 \n",
      "dtypes: int64(4), object(2)\n",
      "memory usage: 24.4+ MB\n"
     ]
    }
   ],
   "source": [
    "# check for the type of data\n",
    "df_merged.info()"
   ]
  },
  {
   "cell_type": "code",
   "execution_count": 39,
   "id": "597f00e1-f206-4a23-ae47-b0ed40a67b72",
   "metadata": {},
   "outputs": [
    {
     "name": "stdout",
     "output_type": "stream",
     "text": [
      "<class 'pandas.core.frame.DataFrame'>\n",
      "RangeIndex: 533059 entries, 0 to 533058\n",
      "Data columns (total 6 columns):\n",
      " #   Column       Non-Null Count   Dtype         \n",
      "---  ------       --------------   -----         \n",
      " 0   salary_band  533059 non-null  object        \n",
      " 1   cal_date     533059 non-null  datetime64[ns]\n",
      " 2   staff_id     533059 non-null  int64         \n",
      " 3   org_unit     533059 non-null  object        \n",
      " 4   start_date   533059 non-null  datetime64[ns]\n",
      " 5   end_date     533059 non-null  datetime64[ns]\n",
      "dtypes: datetime64[ns](3), int64(1), object(2)\n",
      "memory usage: 24.4+ MB\n"
     ]
    }
   ],
   "source": [
    "# convert data to datetime to simplify the reasoning and the manipulations\n",
    "df_merged['cal_date'] = pd.to_datetime(df_merged['cal_date'] , format= \"%Y%m%d\")\n",
    "df_merged['start_date'] = pd.to_datetime(df_merged['start_date'] , format= \"%Y%m%d\")\n",
    "df_merged['end_date'] = pd.to_datetime(df_merged['end_date'] , format= \"%Y%m%d\")\n",
    "df_merged.info()"
   ]
  },
  {
   "cell_type": "code",
   "execution_count": 40,
   "id": "f0e5282e-1229-4d4a-9d2b-a3d9842e7840",
   "metadata": {},
   "outputs": [],
   "source": [
    "# filter subjects in E/F salary band \n",
    "Df_selez = df_merged[(df_merged['salary_band']  == 'E/F') | (df_merged['salary_band']  == 'F/G')]"
   ]
  },
  {
   "cell_type": "code",
   "execution_count": 41,
   "id": "f07faaec-a4b0-450b-abb1-8c53e31aeb43",
   "metadata": {},
   "outputs": [],
   "source": [
    "# filter only data in 2024\n",
    "Df_selez = Df_selez[((Df_selez['start_date'] >= '2024-01-01') & (Df_selez['end_date'] <= '2024-12-31'))]"
   ]
  },
  {
   "cell_type": "code",
   "execution_count": 42,
   "id": "fb092b04-2f7e-4e8f-b674-7015bfd16451",
   "metadata": {},
   "outputs": [
    {
     "data": {
      "text/html": [
       "<div>\n",
       "<style scoped>\n",
       "    .dataframe tbody tr th:only-of-type {\n",
       "        vertical-align: middle;\n",
       "    }\n",
       "\n",
       "    .dataframe tbody tr th {\n",
       "        vertical-align: top;\n",
       "    }\n",
       "\n",
       "    .dataframe thead th {\n",
       "        text-align: right;\n",
       "    }\n",
       "</style>\n",
       "<table border=\"1\" class=\"dataframe\">\n",
       "  <thead>\n",
       "    <tr style=\"text-align: right;\">\n",
       "      <th></th>\n",
       "      <th>salary_band</th>\n",
       "      <th>cal_date</th>\n",
       "      <th>staff_id</th>\n",
       "      <th>org_unit</th>\n",
       "      <th>start_date</th>\n",
       "      <th>end_date</th>\n",
       "    </tr>\n",
       "  </thead>\n",
       "  <tbody>\n",
       "    <tr>\n",
       "      <th>2120</th>\n",
       "      <td>E/F</td>\n",
       "      <td>2024-01-02</td>\n",
       "      <td>140</td>\n",
       "      <td>DGS</td>\n",
       "      <td>2024-01-01</td>\n",
       "      <td>2024-07-21</td>\n",
       "    </tr>\n",
       "    <tr>\n",
       "      <th>2121</th>\n",
       "      <td>E/F</td>\n",
       "      <td>2024-01-02</td>\n",
       "      <td>140</td>\n",
       "      <td>DGS</td>\n",
       "      <td>2024-07-22</td>\n",
       "      <td>2024-08-30</td>\n",
       "    </tr>\n",
       "    <tr>\n",
       "      <th>2124</th>\n",
       "      <td>E/F</td>\n",
       "      <td>2024-01-02</td>\n",
       "      <td>140</td>\n",
       "      <td>DGS</td>\n",
       "      <td>2024-08-31</td>\n",
       "      <td>2024-10-31</td>\n",
       "    </tr>\n",
       "    <tr>\n",
       "      <th>2125</th>\n",
       "      <td>E/F</td>\n",
       "      <td>2024-01-02</td>\n",
       "      <td>140</td>\n",
       "      <td>DGS</td>\n",
       "      <td>2024-11-01</td>\n",
       "      <td>2024-12-31</td>\n",
       "    </tr>\n",
       "    <tr>\n",
       "      <th>2126</th>\n",
       "      <td>E/F</td>\n",
       "      <td>2024-01-03</td>\n",
       "      <td>140</td>\n",
       "      <td>DGS</td>\n",
       "      <td>2024-01-01</td>\n",
       "      <td>2024-07-21</td>\n",
       "    </tr>\n",
       "  </tbody>\n",
       "</table>\n",
       "</div>"
      ],
      "text/plain": [
       "     salary_band   cal_date  staff_id org_unit start_date   end_date\n",
       "2120         E/F 2024-01-02       140      DGS 2024-01-01 2024-07-21\n",
       "2121         E/F 2024-01-02       140      DGS 2024-07-22 2024-08-30\n",
       "2124         E/F 2024-01-02       140      DGS 2024-08-31 2024-10-31\n",
       "2125         E/F 2024-01-02       140      DGS 2024-11-01 2024-12-31\n",
       "2126         E/F 2024-01-03       140      DGS 2024-01-01 2024-07-21"
      ]
     },
     "execution_count": 42,
     "metadata": {},
     "output_type": "execute_result"
    }
   ],
   "source": [
    "# snippet of what has been done until now\n",
    "Df_selez.head()"
   ]
  },
  {
   "cell_type": "code",
   "execution_count": 43,
   "id": "0256398d-4eaf-4d8c-a93b-ba17a2ad62b9",
   "metadata": {},
   "outputs": [],
   "source": [
    "# get employees previously employed in sectors with an E/F salary band\n",
    "previous = df_merged[\n",
    "    (df_merged['salary_band'] == 'E/F')]"
   ]
  },
  {
   "cell_type": "code",
   "execution_count": 44,
   "id": "5d29e7bd-8462-4a89-ab0f-e5d5bce7ad6f",
   "metadata": {},
   "outputs": [
    {
     "data": {
      "text/html": [
       "<div>\n",
       "<style scoped>\n",
       "    .dataframe tbody tr th:only-of-type {\n",
       "        vertical-align: middle;\n",
       "    }\n",
       "\n",
       "    .dataframe tbody tr th {\n",
       "        vertical-align: top;\n",
       "    }\n",
       "\n",
       "    .dataframe thead th {\n",
       "        text-align: right;\n",
       "    }\n",
       "</style>\n",
       "<table border=\"1\" class=\"dataframe\">\n",
       "  <thead>\n",
       "    <tr style=\"text-align: right;\">\n",
       "      <th></th>\n",
       "      <th>salary_band</th>\n",
       "      <th>cal_date</th>\n",
       "      <th>staff_id</th>\n",
       "      <th>org_unit</th>\n",
       "      <th>start_date</th>\n",
       "      <th>end_date</th>\n",
       "    </tr>\n",
       "  </thead>\n",
       "  <tbody>\n",
       "    <tr>\n",
       "      <th>2120</th>\n",
       "      <td>E/F</td>\n",
       "      <td>2024-01-02</td>\n",
       "      <td>140</td>\n",
       "      <td>DGS</td>\n",
       "      <td>2024-01-01</td>\n",
       "      <td>2024-07-21</td>\n",
       "    </tr>\n",
       "    <tr>\n",
       "      <th>2121</th>\n",
       "      <td>E/F</td>\n",
       "      <td>2024-01-02</td>\n",
       "      <td>140</td>\n",
       "      <td>DGS</td>\n",
       "      <td>2024-07-22</td>\n",
       "      <td>2024-08-30</td>\n",
       "    </tr>\n",
       "    <tr>\n",
       "      <th>2122</th>\n",
       "      <td>E/F</td>\n",
       "      <td>2024-01-02</td>\n",
       "      <td>140</td>\n",
       "      <td>DGS</td>\n",
       "      <td>2025-01-01</td>\n",
       "      <td>2025-12-31</td>\n",
       "    </tr>\n",
       "    <tr>\n",
       "      <th>2123</th>\n",
       "      <td>E/F</td>\n",
       "      <td>2024-01-02</td>\n",
       "      <td>140</td>\n",
       "      <td>DGS</td>\n",
       "      <td>2026-01-01</td>\n",
       "      <td>2029-12-31</td>\n",
       "    </tr>\n",
       "    <tr>\n",
       "      <th>2124</th>\n",
       "      <td>E/F</td>\n",
       "      <td>2024-01-02</td>\n",
       "      <td>140</td>\n",
       "      <td>DGS</td>\n",
       "      <td>2024-08-31</td>\n",
       "      <td>2024-10-31</td>\n",
       "    </tr>\n",
       "  </tbody>\n",
       "</table>\n",
       "</div>"
      ],
      "text/plain": [
       "     salary_band   cal_date  staff_id org_unit start_date   end_date\n",
       "2120         E/F 2024-01-02       140      DGS 2024-01-01 2024-07-21\n",
       "2121         E/F 2024-01-02       140      DGS 2024-07-22 2024-08-30\n",
       "2122         E/F 2024-01-02       140      DGS 2025-01-01 2025-12-31\n",
       "2123         E/F 2024-01-02       140      DGS 2026-01-01 2029-12-31\n",
       "2124         E/F 2024-01-02       140      DGS 2024-08-31 2024-10-31"
      ]
     },
     "execution_count": 44,
     "metadata": {},
     "output_type": "execute_result"
    }
   ],
   "source": [
    "# snippet of the data\n",
    "previous.head()"
   ]
  },
  {
   "cell_type": "code",
   "execution_count": 45,
   "id": "4799003b-b559-4485-9126-24098f5a8196",
   "metadata": {},
   "outputs": [],
   "source": [
    "# Merging the two datasets based on 'staff_id' to get the employees who match both conditions by keeping only the shared columns\n",
    "promoted = pd.merge(Df_selez, previous[['staff_id']], on='staff_id', how='inner')"
   ]
  },
  {
   "cell_type": "code",
   "execution_count": 46,
   "id": "e0d558b9-854a-46d9-b381-534911f18d51",
   "metadata": {},
   "outputs": [],
   "source": [
    "# count promoted employees\n",
    "N_promoted = promoted['staff_id'].nunique()"
   ]
  },
  {
   "cell_type": "code",
   "execution_count": 47,
   "id": "087feca3-ea13-4207-b732-93e8d59cad89",
   "metadata": {},
   "outputs": [
    {
     "name": "stdout",
     "output_type": "stream",
     "text": [
      "Number of employees in DGIS promoted to 'F/G' in 2024 who were previously in 'E/F': 46\n"
     ]
    }
   ],
   "source": [
    "print(f\"Number of employees in DGIS promoted to 'F/G' in 2024 who were previously in 'E/F': {N_promoted}\")"
   ]
  },
  {
   "cell_type": "markdown",
   "id": "1734003f-af75-46e9-bdaf-a3f9c65e1fd7",
   "metadata": {},
   "source": [
    "# How many employees moved to a different organisational unit during 2024?"
   ]
  },
  {
   "cell_type": "code",
   "execution_count": 49,
   "id": "38b7c54d-058f-421f-9967-687998a38925",
   "metadata": {},
   "outputs": [
    {
     "name": "stdout",
     "output_type": "stream",
     "text": [
      "<class 'pandas.core.frame.DataFrame'>\n",
      "RangeIndex: 1361 entries, 0 to 1360\n",
      "Data columns (total 4 columns):\n",
      " #   Column      Non-Null Count  Dtype \n",
      "---  ------      --------------  ----- \n",
      " 0   org_unit    1361 non-null   object\n",
      " 1   start_date  1361 non-null   int64 \n",
      " 2   end_date    1361 non-null   int64 \n",
      " 3   staff_id    1361 non-null   int64 \n",
      "dtypes: int64(3), object(1)\n",
      "memory usage: 42.7+ KB\n",
      "Info generali None\n",
      "Rows:  1361   Columns:  4\n"
     ]
    }
   ],
   "source": [
    "# import and look at the data\n",
    "df  = pd.read_csv('org_assignments.csv', parse_dates = True, dayfirst = True)\n",
    "print('Info generali', df.info())\n",
    "print('Rows: ', df.shape[0],'  Columns: ', df.shape[1])"
   ]
  },
  {
   "cell_type": "code",
   "execution_count": 50,
   "id": "c078d1ca-632c-4a64-8222-83f1c86c0579",
   "metadata": {},
   "outputs": [
    {
     "data": {
      "text/plain": [
       "org_unit        4\n",
       "start_date    357\n",
       "end_date      259\n",
       "staff_id      493\n",
       "dtype: int64"
      ]
     },
     "execution_count": 50,
     "metadata": {},
     "output_type": "execute_result"
    }
   ],
   "source": [
    "# number of unique values in each column \n",
    "# if somebody changed contract staff_id and number of rows would coincide\n",
    "df.nunique()"
   ]
  },
  {
   "cell_type": "code",
   "execution_count": 51,
   "id": "3aeba2c7-93a7-47ae-9210-76044efa1955",
   "metadata": {},
   "outputs": [
    {
     "data": {
      "text/html": [
       "<div>\n",
       "<style scoped>\n",
       "    .dataframe tbody tr th:only-of-type {\n",
       "        vertical-align: middle;\n",
       "    }\n",
       "\n",
       "    .dataframe tbody tr th {\n",
       "        vertical-align: top;\n",
       "    }\n",
       "\n",
       "    .dataframe thead th {\n",
       "        text-align: right;\n",
       "    }\n",
       "</style>\n",
       "<table border=\"1\" class=\"dataframe\">\n",
       "  <thead>\n",
       "    <tr style=\"text-align: right;\">\n",
       "      <th></th>\n",
       "      <th>org_unit</th>\n",
       "      <th>start_date</th>\n",
       "      <th>end_date</th>\n",
       "      <th>staff_id</th>\n",
       "    </tr>\n",
       "  </thead>\n",
       "  <tbody>\n",
       "    <tr>\n",
       "      <th>0</th>\n",
       "      <td>DGIS</td>\n",
       "      <td>20231031</td>\n",
       "      <td>20291231</td>\n",
       "      <td>485</td>\n",
       "    </tr>\n",
       "    <tr>\n",
       "      <th>1</th>\n",
       "      <td>DGCS</td>\n",
       "      <td>20240326</td>\n",
       "      <td>20240531</td>\n",
       "      <td>105</td>\n",
       "    </tr>\n",
       "    <tr>\n",
       "      <th>2</th>\n",
       "      <td>DGCS</td>\n",
       "      <td>20240601</td>\n",
       "      <td>20240630</td>\n",
       "      <td>105</td>\n",
       "    </tr>\n",
       "    <tr>\n",
       "      <th>3</th>\n",
       "      <td>DGCS</td>\n",
       "      <td>20240701</td>\n",
       "      <td>20240725</td>\n",
       "      <td>105</td>\n",
       "    </tr>\n",
       "    <tr>\n",
       "      <th>4</th>\n",
       "      <td>DGCS</td>\n",
       "      <td>20241130</td>\n",
       "      <td>20241130</td>\n",
       "      <td>105</td>\n",
       "    </tr>\n",
       "  </tbody>\n",
       "</table>\n",
       "</div>"
      ],
      "text/plain": [
       "  org_unit  start_date  end_date  staff_id\n",
       "0     DGIS    20231031  20291231       485\n",
       "1     DGCS    20240326  20240531       105\n",
       "2     DGCS    20240601  20240630       105\n",
       "3     DGCS    20240701  20240725       105\n",
       "4     DGCS    20241130  20241130       105"
      ]
     },
     "execution_count": 51,
     "metadata": {},
     "output_type": "execute_result"
    }
   ],
   "source": [
    "# data snippet\n",
    "df.head()"
   ]
  },
  {
   "cell_type": "code",
   "execution_count": 52,
   "id": "18f98600-30f3-4d17-9c40-ebd309bbb4c5",
   "metadata": {},
   "outputs": [],
   "source": [
    "# convert column values to datetime type of data \n",
    "# mind that the format imply the same lenght of the values. It means that years as y% would raise an error, here i use %Y\n",
    "df['start_date'] = pd.to_datetime(df['start_date'] , format= \"%Y%m%d\")\n",
    "df['end_date'] = pd.to_datetime(df['end_date'] , format= \"%Y%m%d\")"
   ]
  },
  {
   "cell_type": "code",
   "execution_count": 53,
   "id": "5c1d9262-894c-46da-bd47-61a0ba6d2d83",
   "metadata": {},
   "outputs": [],
   "source": [
    "# filter start date from 2023-01-01 included to end date 2025-12-31 included\n",
    "df = df[((df['start_date'] >= '2024-01-01') & (df['end_date'] <= '2025-12-31'))]"
   ]
  },
  {
   "cell_type": "code",
   "execution_count": 54,
   "id": "1bb31842-01d6-4f90-991a-eb872f273dd4",
   "metadata": {},
   "outputs": [
    {
     "name": "stdout",
     "output_type": "stream",
     "text": [
      "<class 'pandas.core.frame.DataFrame'>\n",
      "Index: 633 entries, 1 to 1359\n",
      "Data columns (total 4 columns):\n",
      " #   Column      Non-Null Count  Dtype         \n",
      "---  ------      --------------  -----         \n",
      " 0   org_unit    633 non-null    object        \n",
      " 1   start_date  633 non-null    datetime64[ns]\n",
      " 2   end_date    633 non-null    datetime64[ns]\n",
      " 3   staff_id    633 non-null    int64         \n",
      "dtypes: datetime64[ns](2), int64(1), object(1)\n",
      "memory usage: 24.7+ KB\n"
     ]
    }
   ],
   "source": [
    "# how much data is left?\n",
    "df.info()"
   ]
  },
  {
   "cell_type": "code",
   "execution_count": 55,
   "id": "b7f973ac-a716-4142-86cd-9f417c2259cd",
   "metadata": {},
   "outputs": [],
   "source": [
    "# grouping data by staff_id and count unique values in start_date\n",
    "# logic behind it: a number of start dates > 1 for a staff_id means that that employee has started over into an other unit that year\n",
    "cambi = df.groupby('staff_id')['start_date'].nunique()"
   ]
  },
  {
   "cell_type": "code",
   "execution_count": 56,
   "id": "c6cc92f1-2693-41ab-a79c-aedf7a9b4d29",
   "metadata": {},
   "outputs": [
    {
     "data": {
      "text/plain": [
       "staff_id\n",
       "2      1\n",
       "5      5\n",
       "6      4\n",
       "9      7\n",
       "11     1\n",
       "      ..\n",
       "477    1\n",
       "479    1\n",
       "482    1\n",
       "484    1\n",
       "486    1\n",
       "Name: start_date, Length: 240, dtype: int64"
      ]
     },
     "execution_count": 56,
     "metadata": {},
     "output_type": "execute_result"
    }
   ],
   "source": [
    "cambi # check the result"
   ]
  },
  {
   "cell_type": "code",
   "execution_count": 57,
   "id": "8e3fc8db-5fb6-4c3f-b057-5534eb90206a",
   "metadata": {},
   "outputs": [],
   "source": [
    "# make it a df\n",
    "cambi = pd.DataFrame(cambi)"
   ]
  },
  {
   "cell_type": "code",
   "execution_count": 58,
   "id": "0bbef576-1c34-4de4-9bd6-3bc48c0f16ab",
   "metadata": {},
   "outputs": [],
   "source": [
    "# rename column to make the menaning of the values clearly meaningful\n",
    "cambi = cambi.rename(columns = {'start_date': 'Num_cambi'})"
   ]
  },
  {
   "cell_type": "code",
   "execution_count": 59,
   "id": "8cbc3dc1-26a7-42b4-8a23-bc2c4d468992",
   "metadata": {},
   "outputs": [
    {
     "data": {
      "text/html": [
       "<div>\n",
       "<style scoped>\n",
       "    .dataframe tbody tr th:only-of-type {\n",
       "        vertical-align: middle;\n",
       "    }\n",
       "\n",
       "    .dataframe tbody tr th {\n",
       "        vertical-align: top;\n",
       "    }\n",
       "\n",
       "    .dataframe thead th {\n",
       "        text-align: right;\n",
       "    }\n",
       "</style>\n",
       "<table border=\"1\" class=\"dataframe\">\n",
       "  <thead>\n",
       "    <tr style=\"text-align: right;\">\n",
       "      <th></th>\n",
       "      <th>Num_cambi</th>\n",
       "    </tr>\n",
       "    <tr>\n",
       "      <th>staff_id</th>\n",
       "      <th></th>\n",
       "    </tr>\n",
       "  </thead>\n",
       "  <tbody>\n",
       "    <tr>\n",
       "      <th>2</th>\n",
       "      <td>1</td>\n",
       "    </tr>\n",
       "    <tr>\n",
       "      <th>5</th>\n",
       "      <td>5</td>\n",
       "    </tr>\n",
       "    <tr>\n",
       "      <th>6</th>\n",
       "      <td>4</td>\n",
       "    </tr>\n",
       "    <tr>\n",
       "      <th>9</th>\n",
       "      <td>7</td>\n",
       "    </tr>\n",
       "    <tr>\n",
       "      <th>11</th>\n",
       "      <td>1</td>\n",
       "    </tr>\n",
       "    <tr>\n",
       "      <th>...</th>\n",
       "      <td>...</td>\n",
       "    </tr>\n",
       "    <tr>\n",
       "      <th>477</th>\n",
       "      <td>1</td>\n",
       "    </tr>\n",
       "    <tr>\n",
       "      <th>479</th>\n",
       "      <td>1</td>\n",
       "    </tr>\n",
       "    <tr>\n",
       "      <th>482</th>\n",
       "      <td>1</td>\n",
       "    </tr>\n",
       "    <tr>\n",
       "      <th>484</th>\n",
       "      <td>1</td>\n",
       "    </tr>\n",
       "    <tr>\n",
       "      <th>486</th>\n",
       "      <td>1</td>\n",
       "    </tr>\n",
       "  </tbody>\n",
       "</table>\n",
       "<p>240 rows × 1 columns</p>\n",
       "</div>"
      ],
      "text/plain": [
       "          Num_cambi\n",
       "staff_id           \n",
       "2                 1\n",
       "5                 5\n",
       "6                 4\n",
       "9                 7\n",
       "11                1\n",
       "...             ...\n",
       "477               1\n",
       "479               1\n",
       "482               1\n",
       "484               1\n",
       "486               1\n",
       "\n",
       "[240 rows x 1 columns]"
      ]
     },
     "execution_count": 59,
     "metadata": {},
     "output_type": "execute_result"
    }
   ],
   "source": [
    "#check the result \n",
    "cambi"
   ]
  },
  {
   "cell_type": "code",
   "execution_count": 60,
   "id": "805ab794-66e3-4a8b-b53f-12e4fbca031e",
   "metadata": {},
   "outputs": [
    {
     "name": "stdout",
     "output_type": "stream",
     "text": [
      "Number of employees who underwent a contract upgrade:  Num_cambi    153\n",
      "dtype: int64\n"
     ]
    }
   ],
   "source": [
    "# how many subjects changed contract in 2024?\n",
    "print('Number of employees who underwent a contract upgrade: ', cambi[cambi['Num_cambi']>1].count())"
   ]
  }
 ],
 "metadata": {
  "kernelspec": {
   "display_name": "Python 3 (ipykernel)",
   "language": "python",
   "name": "python3"
  },
  "language_info": {
   "codemirror_mode": {
    "name": "ipython",
    "version": 3
   },
   "file_extension": ".py",
   "mimetype": "text/x-python",
   "name": "python",
   "nbconvert_exporter": "python",
   "pygments_lexer": "ipython3",
   "version": "3.12.4"
  }
 },
 "nbformat": 4,
 "nbformat_minor": 5
}
